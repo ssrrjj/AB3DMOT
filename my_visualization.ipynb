{
 "cells": [
  {
   "cell_type": "code",
   "execution_count": 1,
   "metadata": {},
   "outputs": [],
   "source": [
    "import matplotlib.pyplot as plt\n",
    "import os\n",
    "import cv2\n",
    "import numpy as np\n",
    "from PIL import Image\n",
    "from AB3DMOT_libs.kitti_utils import read_label, compute_box_3d, draw_projected_box3d, Calibration, Object3d"
   ]
  },
  {
   "cell_type": "markdown",
   "metadata": {},
   "source": [
    "# Visualize detection result\n",
    "Load detection results from \"data/KITTI/result_sha/seq\" and images from \"data_root/image_02/seq\". Save visualization results in \"./results/result_sha/det_image_vis/seq\" "
   ]
  },
  {
   "cell_type": "code",
   "execution_count": 6,
   "metadata": {},
   "outputs": [],
   "source": [
    "def visdet(result_sha, data_root, seq):\n",
    "    width = 1242\n",
    "    height = 374\n",
    "    def show_image_with_boxes(img, objects_res, object_gt, calib, save_path, height_threshold=0):\n",
    "        img2 = np.copy(img) \n",
    "        # for each object, compute the bouding box in 2D image. Use the same color for objects of same obj.id. \n",
    "        for obj in objects_res:\n",
    "            box3d_pts_2d, _ = compute_box_3d(obj, calib.P) # calib.P is the projection matrix from camera coord to image coord\n",
    "            color_tmp = tuple([255,0,0])\n",
    "            img2 = draw_projected_box3d(img2, box3d_pts_2d, color=color_tmp)\n",
    "            text = 'ID: %d' % obj.id\n",
    "            if box3d_pts_2d is not None:\n",
    "                img2 = cv2.putText(img2, text, (int(box3d_pts_2d[4, 0]), int(box3d_pts_2d[4, 1]) - 8), cv2.FONT_HERSHEY_TRIPLEX, 0.5, color=color_tmp) \n",
    "\n",
    "        img = Image.fromarray(img2)\n",
    "        img = img.resize((width, height))\n",
    "        img.save(save_path)\n",
    "    image_dir = os.path.join(data_root, 'image_02/%s' % seq)\n",
    "    calib_file = os.path.join(data_root, 'calib/%s.txt' % seq) \n",
    "\n",
    "    save_3d_bbox_dir = os.path.join('./results',result_sha,'det_image_vis/%s' % seq)\n",
    "    print(save_3d_bbox_dir)\n",
    "    if not os.path.exists(save_3d_bbox_dir):\n",
    "        os.makedirs(save_3d_bbox_dir)\n",
    "\n",
    "    seq_file = os.path.join('data/KITTI', result_sha, \"%s.txt\"%seq)\n",
    "    seq_dets = np.loadtxt(seq_file, delimiter=',')\n",
    "    if len(seq_dets.shape) == 1: seq_dets = np.expand_dims(seq_dets, axis=0) \t\n",
    "    if seq_dets.shape[1] == 0:\n",
    "        return\n",
    "    calib_tmp = Calibration(calib_file)\n",
    "    # loop over frame\n",
    "    min_frame, max_frame = int(seq_dets[:, 0].min()), int(seq_dets[:, 0].max())\n",
    "    print(min_frame, max_frame)\n",
    "    for frame in range(min_frame, max_frame + 1):\n",
    "        try:\n",
    "            img_tmp = np.array(Image.open(os.path.join(image_dir,\"%06d.png\"%frame)))\n",
    "        except:\n",
    "            break\n",
    "        # logging\n",
    "        print_str = 'processing %s:  %d/%d   \\r' % (seq,  frame, max_frame)\n",
    "        print(print_str)\n",
    "\n",
    "        dets = seq_dets[seq_dets[:,0] == frame]            # h, w, l, x, y, z, theta in camera coordinate follwing KITTI convention\n",
    "        objects = []\n",
    "        for i, det in enumerate(dets):\n",
    "            str_to_srite = '%s -1 -1 %f %f %f %f %f %f %f %f %f %f %f %f %f %d\\n' % (\"Car\", det[14],\n",
    "                    det[2], det[3], det[4], det[5], \n",
    "                    det[7], det[8], det[9], det[10], det[11], det[12], det[13], det[6], 1)\n",
    "            objects.append(Object3d(str_to_srite))\n",
    "        save_path_tmp = os.path.join(save_3d_bbox_dir, '%06d.jpg' % frame)\n",
    "        show_image_with_boxes(img_tmp, objects, [], calib_tmp, save_path_tmp)"
   ]
  },
  {
   "cell_type": "markdown",
   "metadata": {},
   "source": [
    "## Example\n",
    "\n",
    "I put 21 images in ./data/KITTI/resources/testing/image_02/seq"
   ]
  },
  {
   "cell_type": "code",
   "execution_count": 7,
   "metadata": {},
   "outputs": [
    {
     "name": "stdout",
     "output_type": "stream",
     "text": [
      "./results/pointrcnn_Car_test/det_image_vis/0000\n",
      "0 464\n",
      "processing 0000:  0/464   \n",
      "processing 0000:  1/464   \n",
      "processing 0000:  2/464   \n",
      "processing 0000:  3/464   \n",
      "processing 0000:  4/464   \n",
      "processing 0000:  5/464   \n",
      "processing 0000:  6/464   \n",
      "processing 0000:  7/464   \n",
      "processing 0000:  8/464   \n",
      "processing 0000:  9/464   \n",
      "processing 0000:  10/464   \n",
      "processing 0000:  11/464   \n",
      "processing 0000:  12/464   \n",
      "processing 0000:  13/464   \n",
      "processing 0000:  14/464   \n",
      "processing 0000:  15/464   \n",
      "processing 0000:  16/464   \n",
      "processing 0000:  17/464   \n",
      "processing 0000:  18/464   \n",
      "processing 0000:  19/464   \n",
      "processing 0000:  20/464   \n"
     ]
    }
   ],
   "source": [
    "result_sha = \"pointrcnn_Car_test\"\n",
    "data_root = './data/KITTI/resources/testing'\n",
    "seq = \"0000\"\n",
    "visdet(result_sha, data_root, seq)"
   ]
  }
 ],
 "metadata": {
  "kernelspec": {
   "display_name": "Python 3",
   "language": "python",
   "name": "python3"
  },
  "language_info": {
   "codemirror_mode": {
    "name": "ipython",
    "version": 3
   },
   "file_extension": ".py",
   "mimetype": "text/x-python",
   "name": "python",
   "nbconvert_exporter": "python",
   "pygments_lexer": "ipython3",
   "version": "3.7.6"
  }
 },
 "nbformat": 4,
 "nbformat_minor": 4
}
