{
 "cells": [
  {
   "cell_type": "code",
   "execution_count": null,
   "metadata": {},
   "outputs": [],
   "source": [
    "import csv\n",
    "import numpy as np"
   ]
  },
  {
   "cell_type": "code",
   "execution_count": null,
   "metadata": {},
   "outputs": [],
   "source": [
    "def convert(from_file, to_file):\n",
    "    text = []\n",
    "    with open(from_file, newline='') as csvfile:\n",
    "        reader = csv.reader(csvfile, delimiter=',')\n",
    "        for row in reader:\n",
    "            line = np.array([float(x) for x in row])\n",
    "            new_line = line.copy()\n",
    "            new_line[7:10] = line[[9,7,8]]\n",
    "            new_line[10], new_line[11], new_line[12] = -line[11], -line[12]+line[9]/2, line[10]\n",
    "            new_line[13] = -line[13]\n",
    "            new_line = [str(x) for x in new_line]\n",
    "            new_line = ', '.join(new_line)+'\\n'\n",
    "            text.append(new_line)\n",
    "    fp = open(to_file,'w')\n",
    "    for line in text:\n",
    "        fp.writelines(line)\n",
    "    fp.close()"
   ]
  }
 ],
 "metadata": {
  "kernelspec": {
   "display_name": "Python 3",
   "language": "python",
   "name": "python3"
  },
  "language_info": {
   "codemirror_mode": {
    "name": "ipython",
    "version": 3
   },
   "file_extension": ".py",
   "mimetype": "text/x-python",
   "name": "python",
   "nbconvert_exporter": "python",
   "pygments_lexer": "ipython3",
   "version": "3.7.6"
  }
 },
 "nbformat": 4,
 "nbformat_minor": 4
}
